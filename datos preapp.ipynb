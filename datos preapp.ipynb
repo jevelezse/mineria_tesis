{
 "cells": [
  {
   "cell_type": "code",
   "execution_count": 1,
   "metadata": {
    "collapsed": true
   },
   "outputs": [],
   "source": [
    "import pandas as pd"
   ]
  },
  {
   "cell_type": "code",
   "execution_count": 3,
   "metadata": {
    "collapsed": true
   },
   "outputs": [],
   "source": [
    "df = pd.read_csv(\n",
    "    '/home/jennifer/Escritorio/Datos/arbolito1.csv'\n",
    ")"
   ]
  },
  {
   "cell_type": "code",
   "execution_count": 32,
   "metadata": {},
   "outputs": [
    {
     "data": {
      "text/html": [
       "<div>\n",
       "<style>\n",
       "    .dataframe thead tr:only-child th {\n",
       "        text-align: right;\n",
       "    }\n",
       "\n",
       "    .dataframe thead th {\n",
       "        text-align: left;\n",
       "    }\n",
       "\n",
       "    .dataframe tbody tr th {\n",
       "        vertical-align: top;\n",
       "    }\n",
       "</style>\n",
       "<table border=\"1\" class=\"dataframe\">\n",
       "  <thead>\n",
       "    <tr style=\"text-align: right;\">\n",
       "      <th></th>\n",
       "      <th>gen</th>\n",
       "      <th>homocigoto</th>\n",
       "      <th>tipo_variante</th>\n",
       "      <th>cluster</th>\n",
       "      <th>sexo</th>\n",
       "      <th>edad1</th>\n",
       "    </tr>\n",
       "  </thead>\n",
       "  <tbody>\n",
       "    <tr>\n",
       "      <th>0</th>\n",
       "      <td>BRCA2</td>\n",
       "      <td>False</td>\n",
       "      <td>nonsynonymous SNV</td>\n",
       "      <td>c3</td>\n",
       "      <td>M</td>\n",
       "      <td>(0, 10]</td>\n",
       "    </tr>\n",
       "    <tr>\n",
       "      <th>1</th>\n",
       "      <td>BRCA2</td>\n",
       "      <td>False</td>\n",
       "      <td>synonymous SNV</td>\n",
       "      <td>c3</td>\n",
       "      <td>M</td>\n",
       "      <td>(0, 10]</td>\n",
       "    </tr>\n",
       "    <tr>\n",
       "      <th>2</th>\n",
       "      <td>BRCA2</td>\n",
       "      <td>False</td>\n",
       "      <td>nonsynonymous SNV</td>\n",
       "      <td>c3</td>\n",
       "      <td>M</td>\n",
       "      <td>(0, 10]</td>\n",
       "    </tr>\n",
       "    <tr>\n",
       "      <th>3</th>\n",
       "      <td>BRCA2</td>\n",
       "      <td>False</td>\n",
       "      <td>synonymous SNV</td>\n",
       "      <td>c3</td>\n",
       "      <td>M</td>\n",
       "      <td>(0, 10]</td>\n",
       "    </tr>\n",
       "    <tr>\n",
       "      <th>4</th>\n",
       "      <td>BRCA2</td>\n",
       "      <td>False</td>\n",
       "      <td>synonymous SNV</td>\n",
       "      <td>c3</td>\n",
       "      <td>M</td>\n",
       "      <td>(0, 10]</td>\n",
       "    </tr>\n",
       "  </tbody>\n",
       "</table>\n",
       "</div>"
      ],
      "text/plain": [
       "     gen  homocigoto      tipo_variante cluster sexo    edad1\n",
       "0  BRCA2       False  nonsynonymous SNV      c3    M  (0, 10]\n",
       "1  BRCA2       False     synonymous SNV      c3    M  (0, 10]\n",
       "2  BRCA2       False  nonsynonymous SNV      c3    M  (0, 10]\n",
       "3  BRCA2       False     synonymous SNV      c3    M  (0, 10]\n",
       "4  BRCA2       False     synonymous SNV      c3    M  (0, 10]"
      ]
     },
     "execution_count": 32,
     "metadata": {},
     "output_type": "execute_result"
    }
   ],
   "source": [
    "df.head()"
   ]
  },
  {
   "cell_type": "code",
   "execution_count": 4,
   "metadata": {
    "collapsed": true
   },
   "outputs": [],
   "source": [
    "df1 = df[df.sexo == 'F']\n",
    "df2 = df1[df1.sexo == 'M']"
   ]
  },
  {
   "cell_type": "code",
   "execution_count": 28,
   "metadata": {},
   "outputs": [],
   "source": [
    "tipo = df.tipo_variante.value_counts() "
   ]
  },
  {
   "cell_type": "code",
   "execution_count": 33,
   "metadata": {},
   "outputs": [],
   "source": [
    "edad = df.edad1.value_counts()"
   ]
  },
  {
   "cell_type": "code",
   "execution_count": 34,
   "metadata": {
    "collapsed": true
   },
   "outputs": [],
   "source": [
    "gen = df.gen.value_counts()"
   ]
  },
  {
   "cell_type": "code",
   "execution_count": 35,
   "metadata": {
    "collapsed": true
   },
   "outputs": [],
   "source": [
    "homocitogoto = df.homocigoto.value_counts()"
   ]
  },
  {
   "cell_type": "code",
   "execution_count": 36,
   "metadata": {
    "collapsed": true
   },
   "outputs": [],
   "source": [
    "sexo = df.sexo.value_counts()"
   ]
  },
  {
   "cell_type": "code",
   "execution_count": 39,
   "metadata": {
    "collapsed": true
   },
   "outputs": [],
   "source": [
    "cluster = df.cluster.value_counts()"
   ]
  },
  {
   "cell_type": "code",
   "execution_count": 69,
   "metadata": {},
   "outputs": [],
   "source": [
    "conteos = pd.concat([tipo, edad, homocitogoto,sexo,cluster], axis=0)"
   ]
  },
  {
   "cell_type": "code",
   "execution_count": 71,
   "metadata": {},
   "outputs": [
    {
     "data": {
      "text/plain": [
       "synonymous SNV       717\n",
       "nonsynonymous SNV    702\n",
       "stopgain               1\n",
       "(0, 10]              591\n",
       "(10, 20]             261\n",
       "(30, 40]             223\n",
       "(40, 50]             145\n",
       "(20, 30]              91\n",
       "(50, 60]              75\n",
       "(60, 70]              34\n",
       "True                 789\n",
       "False                631\n",
       "F                    820\n",
       "M                    600\n",
       "c2                   309\n",
       "c5                   301\n",
       "c3                   274\n",
       "c1                   269\n",
       "c4                   267\n",
       "dtype: int64"
      ]
     },
     "execution_count": 71,
     "metadata": {},
     "output_type": "execute_result"
    }
   ],
   "source": [
    "conteos"
   ]
  },
  {
   "cell_type": "code",
   "execution_count": 72,
   "metadata": {},
   "outputs": [],
   "source": [
    "conteos.columns = [\"Caracteristica\", \"No. de observaciones\"]"
   ]
  },
  {
   "cell_type": "code",
   "execution_count": 73,
   "metadata": {},
   "outputs": [
    {
     "data": {
      "text/plain": [
       "synonymous SNV       717\n",
       "nonsynonymous SNV    702\n",
       "stopgain               1\n",
       "(0, 10]              591\n",
       "(10, 20]             261\n",
       "(30, 40]             223\n",
       "(40, 50]             145\n",
       "(20, 30]              91\n",
       "(50, 60]              75\n",
       "(60, 70]              34\n",
       "True                 789\n",
       "False                631\n",
       "F                    820\n",
       "M                    600\n",
       "c2                   309\n",
       "c5                   301\n",
       "c3                   274\n",
       "c1                   269\n",
       "c4                   267\n",
       "dtype: int64"
      ]
     },
     "execution_count": 73,
     "metadata": {},
     "output_type": "execute_result"
    }
   ],
   "source": [
    "conteos"
   ]
  },
  {
   "cell_type": "code",
   "execution_count": 75,
   "metadata": {},
   "outputs": [],
   "source": [
    "df = pd.read_csv(\n",
    "    '/home/jennifer/Escritorio/conteos.csv'\n",
    ")"
   ]
  },
  {
   "cell_type": "code",
   "execution_count": null,
   "metadata": {
    "collapsed": true
   },
   "outputs": [],
   "source": []
  },
  {
   "cell_type": "code",
   "execution_count": 77,
   "metadata": {},
   "outputs": [],
   "source": [
    "df.to_csv('conteos.csv',index = False)"
   ]
  },
  {
   "cell_type": "code",
   "execution_count": 26,
   "metadata": {},
   "outputs": [
    {
     "ename": "SyntaxError",
     "evalue": "unexpected EOF while parsing (<ipython-input-26-3fdcde8c5288>, line 1)",
     "output_type": "error",
     "traceback": [
      "\u001b[0;36m  File \u001b[0;32m\"<ipython-input-26-3fdcde8c5288>\"\u001b[0;36m, line \u001b[0;32m1\u001b[0m\n\u001b[0;31m    (df[df.sexo == 'M'].value_counts()\u001b[0m\n\u001b[0m                                      ^\u001b[0m\n\u001b[0;31mSyntaxError\u001b[0m\u001b[0;31m:\u001b[0m unexpected EOF while parsing\n"
     ]
    }
   ],
   "source": [
    "(df[df.sexo == 'M'].value_counts()"
   ]
  },
  {
   "cell_type": "code",
   "execution_count": 78,
   "metadata": {},
   "outputs": [],
   "source": [
    "rows=df.to_dict('records')"
   ]
  },
  {
   "cell_type": "code",
   "execution_count": 79,
   "metadata": {},
   "outputs": [
    {
     "data": {
      "text/plain": [
       "[{'Caracteristica': 'synonymous SNV',\n",
       "  'Datos': 'Tipo de variante',\n",
       "  'No. de Observaciones': 717},\n",
       " {'Caracteristica': 'nonsynonymous SNV',\n",
       "  'Datos': 'Tipo de variante',\n",
       "  'No. de Observaciones': 702},\n",
       " {'Caracteristica': 'stopgain',\n",
       "  'Datos': 'Tipo de variante',\n",
       "  'No. de Observaciones': 1},\n",
       " {'Caracteristica': '(0, 10]', 'Datos': 'Edad', 'No. de Observaciones': 591},\n",
       " {'Caracteristica': '(10, 20]', 'Datos': 'Edad', 'No. de Observaciones': 261},\n",
       " {'Caracteristica': '(30, 40]', 'Datos': 'Edad', 'No. de Observaciones': 223},\n",
       " {'Caracteristica': '(40, 50]', 'Datos': 'Edad', 'No. de Observaciones': 145},\n",
       " {'Caracteristica': '(20, 30]', 'Datos': 'Edad', 'No. de Observaciones': 91},\n",
       " {'Caracteristica': '(50, 60]', 'Datos': 'Edad', 'No. de Observaciones': 75},\n",
       " {'Caracteristica': '(60, 70]', 'Datos': 'Edad', 'No. de Observaciones': 34},\n",
       " {'Caracteristica': 'True',\n",
       "  'Datos': 'Homocigoto',\n",
       "  'No. de Observaciones': 789},\n",
       " {'Caracteristica': 'False',\n",
       "  'Datos': 'Homocigoto',\n",
       "  'No. de Observaciones': 631},\n",
       " {'Caracteristica': 'F', 'Datos': 'Sexo', 'No. de Observaciones': 820},\n",
       " {'Caracteristica': 'M', 'Datos': 'Sexo', 'No. de Observaciones': 600},\n",
       " {'Caracteristica': 'c2', 'Datos': 'Grupo', 'No. de Observaciones': 309},\n",
       " {'Caracteristica': 'c5', 'Datos': 'Grupo', 'No. de Observaciones': 301},\n",
       " {'Caracteristica': 'c3', 'Datos': 'Grupo', 'No. de Observaciones': 274},\n",
       " {'Caracteristica': 'c1', 'Datos': 'Grupo', 'No. de Observaciones': 269},\n",
       " {'Caracteristica': 'c4', 'Datos': 'Grupo', 'No. de Observaciones': 267}]"
      ]
     },
     "execution_count": 79,
     "metadata": {},
     "output_type": "execute_result"
    }
   ],
   "source": [
    "rows"
   ]
  },
  {
   "cell_type": "code",
   "execution_count": 87,
   "metadata": {},
   "outputs": [],
   "source": [
    "dff = pd.DataFrame(rows)"
   ]
  },
  {
   "cell_type": "code",
   "execution_count": 88,
   "metadata": {},
   "outputs": [
    {
     "data": {
      "text/plain": [
       "0     Tipo de variante\n",
       "1     Tipo de variante\n",
       "2     Tipo de variante\n",
       "3                 Edad\n",
       "4                 Edad\n",
       "5                 Edad\n",
       "6                 Edad\n",
       "7                 Edad\n",
       "8                 Edad\n",
       "9                 Edad\n",
       "10          Homocigoto\n",
       "11          Homocigoto\n",
       "12                Sexo\n",
       "13                Sexo\n",
       "14               Grupo\n",
       "15               Grupo\n",
       "16               Grupo\n",
       "17               Grupo\n",
       "18               Grupo\n",
       "Name: Datos, dtype: object"
      ]
     },
     "execution_count": 88,
     "metadata": {},
     "output_type": "execute_result"
    }
   ],
   "source": [
    "dff['Datos']"
   ]
  }
 ],
 "metadata": {
  "hide_input": false,
  "kernelspec": {
   "display_name": "Python 2",
   "language": "python",
   "name": "python2"
  },
  "language_info": {
   "codemirror_mode": {
    "name": "ipython",
    "version": 2
   },
   "file_extension": ".py",
   "mimetype": "text/x-python",
   "name": "python",
   "nbconvert_exporter": "python",
   "pygments_lexer": "ipython2",
   "version": "2.7.14"
  }
 },
 "nbformat": 4,
 "nbformat_minor": 2
}
