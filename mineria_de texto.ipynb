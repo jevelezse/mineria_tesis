{
 "cells": [
  {
   "cell_type": "code",
   "execution_count": 2,
   "metadata": {
    "collapsed": true
   },
   "outputs": [],
   "source": [
    "%matplotlib inline\n",
    "import matplotlib\n",
    "matplotlib.style.use('ggplot')\n",
    "import matplotlib.pyplot as plt\n",
    "import pandas as pd\n",
    "import nltk\n",
    "from nltk.corpus import stopwords\n",
    "from nltk.tokenize import TweetTokenizer\n",
    "from nltk.probability import FreqDist\n",
    "from nltk import word_tokenize\n",
    "tt = TweetTokenizer()\n",
    "from string import punctuation\n",
    "import numpy as np\n",
    "matplotlib.rcParams.update({'figure.autolayout': True})"
   ]
  },
  {
   "cell_type": "code",
   "execution_count": 4,
   "metadata": {
    "collapsed": true
   },
   "outputs": [],
   "source": [
    "df = pd.read_csv('tablita.csv')"
   ]
  },
  {
   "cell_type": "code",
   "execution_count": 5,
   "metadata": {
    "collapsed": true
   },
   "outputs": [],
   "source": [
    "b = 's.'"
   ]
  },
  {
   "cell_type": "code",
   "execution_count": 6,
   "metadata": {
    "collapsed": true
   },
   "outputs": [],
   "source": [
    "df['historia_clinica'] = df['historia_clinica'].str.lower().str.replace('(?:\\\\\\\\s|^)'+b+'(?:\\\\\\\\s|$)',' sindrome ')"
   ]
  },
  {
   "cell_type": "code",
   "execution_count": 7,
   "metadata": {
    "collapsed": true
   },
   "outputs": [],
   "source": [
    "df['historia_clinica'] = df['historia_clinica'].str.replace(',',' ')"
   ]
  },
  {
   "cell_type": "code",
   "execution_count": 9,
   "metadata": {
    "collapsed": true
   },
   "outputs": [],
   "source": [
    "df['historia_clinica'] = df['historia_clinica'].str.lower().str.replace('(?:\\\\\\\\s|^)'+b+'(?:\\\\\\\\s|$)','sindrome')\n",
    "df['historia_clinica'] = df['historia_clinica'].str.replace('.',' ')"
   ]
  },
  {
   "cell_type": "code",
   "execution_count": 11,
   "metadata": {},
   "outputs": [],
   "source": [
    "df['historia_clinica'] = df['historia_clinica'].str.lower().str.replace('años','anos')\n",
    "df['historia_clinica'] = df['historia_clinica'].str.lower().str.replace('mama','seno')"
   ]
  },
  {
   "cell_type": "code",
   "execution_count": 13,
   "metadata": {},
   "outputs": [],
   "source": [
    "stops_manunales = ['paciente','Gen','gen','secuenciacion','molecular','tipo']\n",
    "pat = r'\\\\b(?:{})\\\\b'.format('|'.join(stops_manunales))"
   ]
  }
 ],
 "metadata": {
  "hide_input": false,
  "kernelspec": {
   "display_name": "Python 2",
   "language": "python",
   "name": "python2"
  },
  "language_info": {
   "codemirror_mode": {
    "name": "ipython",
    "version": 2
   },
   "file_extension": ".py",
   "mimetype": "text/x-python",
   "name": "python",
   "nbconvert_exporter": "python",
   "pygments_lexer": "ipython2",
   "version": "2.7.14"
  }
 },
 "nbformat": 4,
 "nbformat_minor": 2
}
